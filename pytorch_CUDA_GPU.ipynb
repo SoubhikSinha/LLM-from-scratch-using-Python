{
 "cells": [
  {
   "cell_type": "markdown",
   "metadata": {},
   "source": [
    "# <b> PyTorch - CUDA (Playing with GPU)</b>\n",
    "\n",
    "<br>\n",
    "<br>"
   ]
  },
  {
   "cell_type": "code",
   "execution_count": 1,
   "metadata": {},
   "outputs": [],
   "source": [
    "# Importing PyTorch\n",
    "import torch\n",
    "\n",
    "# Importing other libraries\n",
    "import numpy as np\n",
    "import time"
   ]
  },
  {
   "cell_type": "code",
   "execution_count": 2,
   "metadata": {},
   "outputs": [
    {
     "name": "stdout",
     "output_type": "stream",
     "text": [
      "cuda\n"
     ]
    }
   ],
   "source": [
    "# Switching from CPU to GPU\n",
    "device = 'cuda' if torch.cuda.is_available() else 'cpu'\n",
    "print(device)"
   ]
  },
  {
   "cell_type": "code",
   "execution_count": 3,
   "metadata": {},
   "outputs": [
    {
     "name": "stdout",
     "output_type": "stream",
     "text": [
      "Elapsed Time : 0.00131035\n"
     ]
    }
   ],
   "source": [
    "# Measuring time to do a Matrix Operation\n",
    "'''\n",
    "PART #1\n",
    "'''\n",
    "\n",
    "start_time = time.time()\n",
    "\n",
    "zeros = torch.zeros(1,1)\n",
    "\n",
    "end_time = time.time()\n",
    "\n",
    "elapsed_time = end_time - start_time\n",
    "print(f\"Elapsed Time : {elapsed_time:.8f}\")"
   ]
  },
  {
   "cell_type": "code",
   "execution_count": 4,
   "metadata": {},
   "outputs": [
    {
     "name": "stdout",
     "output_type": "stream",
     "text": [
      "Elapsed Time (GPU - PyTorch) : 1.09991717\n",
      "Elapsed Time (CPU - Numpy) : 2.18397045\n"
     ]
    }
   ],
   "source": [
    "# Measuring time to do a Matrix Operation - CPU vs GPU\n",
    "'''\n",
    "PART #2\n",
    "'''\n",
    "\n",
    "# For GPU - PyTorch\n",
    "torch_rand1 = torch.rand(100, 100, 100, 100).to(device) # For Matrix Operation in device (here, GPU) (Matrix of 100 X 100 X 100 X 100 --> random numbers)\n",
    "torch_rand2 = torch.rand(100, 100, 100, 100).to(device) # For Matrix Operation in device (here, GPU) (Matrix of 100 X 100 X 100 X 100 --> random numbers)\n",
    "\n",
    "start_time = time.time()\n",
    "\n",
    "rand = (torch_rand1 @ torch_rand2) # Matrix Multiplication\n",
    "\n",
    "end_time = time.time()\n",
    "\n",
    "elapsed_time = end_time - start_time\n",
    "print(f\"Elapsed Time (GPU - PyTorch) : {elapsed_time:.8f}\")\n",
    "\n",
    "\n",
    "# For CPU - Numpy\n",
    "start_time = time.time()\n",
    "\n",
    "np_rand1 = torch.rand(100, 100, 100, 100)\n",
    "np_rand2 = torch.rand(100, 100, 100, 100)\n",
    "rand = np.multiply(np_rand1, np_rand1) # Matrix Multiplication\n",
    "\n",
    "end_time = time.time()\n",
    "\n",
    "elapsed_time = end_time - start_time\n",
    "print(f\"Elapsed Time (CPU - Numpy) : {elapsed_time:.8f}\")"
   ]
  },
  {
   "cell_type": "code",
   "execution_count": null,
   "metadata": {},
   "outputs": [],
   "source": []
  }
 ],
 "metadata": {
  "kernelspec": {
   "display_name": "AlooBonda",
   "language": "python",
   "name": "python3"
  },
  "language_info": {
   "codemirror_mode": {
    "name": "ipython",
    "version": 3
   },
   "file_extension": ".py",
   "mimetype": "text/x-python",
   "name": "python",
   "nbconvert_exporter": "python",
   "pygments_lexer": "ipython3",
   "version": "3.11.9"
  }
 },
 "nbformat": 4,
 "nbformat_minor": 2
}
