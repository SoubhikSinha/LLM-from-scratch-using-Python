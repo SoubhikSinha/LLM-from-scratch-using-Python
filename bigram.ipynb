{
 "cells": [
  {
   "cell_type": "markdown",
   "metadata": {},
   "source": [
    "## <b>Bi-Gram Language Model</b>\n",
    "\n",
    "\n",
    "In this notebook, we will try to create a \"Bi-Gram\" Model"
   ]
  },
  {
   "cell_type": "code",
   "execution_count": 93,
   "metadata": {},
   "outputs": [
    {
     "data": {
      "text/plain": [
       "'\\nText taken into consideration : The Adventures of Sherlock Holms (Project Gutenberg)\\n\\nLINK : https://www.gutenberg.org/ebooks/1661\\n'"
      ]
     },
     "execution_count": 93,
     "metadata": {},
     "output_type": "execute_result"
    }
   ],
   "source": [
    "'''\n",
    "Text taken into consideration : The Adventures of Sherlock Holms (Project Gutenberg)\n",
    "\n",
    "LINK : https://www.gutenberg.org/ebooks/1661\n",
    "'''"
   ]
  },
  {
   "cell_type": "code",
   "execution_count": 94,
   "metadata": {},
   "outputs": [
    {
     "name": "stdout",
     "output_type": "stream",
     "text": [
      "cuda\n"
     ]
    },
    {
     "data": {
      "text/plain": [
       "'\\nWe better not train the model using CPU, because CPU takes instructions and process them sequentially.\\nIf we need to consider a huge amount of data (text), it will take a long for the CPU to process 👻\\n\\nWhen considering GPUs, they work parallely\\n'"
      ]
     },
     "execution_count": 94,
     "metadata": {},
     "output_type": "execute_result"
    }
   ],
   "source": [
    "# Switching from CPU to GPU\n",
    "\n",
    "import torch\n",
    "import torch.nn as nn\n",
    "from torch.nn import functional as F\n",
    "\n",
    "\n",
    "device = 'cuda' if torch.cuda.is_available() else 'cpu'\n",
    "print(device)\n",
    "\n",
    "'''\n",
    "We better not train the model using CPU, because CPU takes instructions and process them sequentially.\n",
    "If we need to consider a huge amount of data (text), it will take a long for the CPU to process 👻\n",
    "\n",
    "When considering GPUs, they work parallely\n",
    "'''"
   ]
  },
  {
   "cell_type": "code",
   "execution_count": 95,
   "metadata": {},
   "outputs": [
    {
     "name": "stdout",
     "output_type": "stream",
     "text": [
      "562465\n"
     ]
    }
   ],
   "source": [
    "# Opening the text file (the book)\n",
    "\n",
    "with open(\"SherlockHolms.txt\", \"r\", encoding = 'utf-8') as f: # Character encoding = 'utf-8'\n",
    "    text = f.read()\n",
    "\n",
    "print(len(text))"
   ]
  },
  {
   "cell_type": "code",
   "execution_count": 96,
   "metadata": {},
   "outputs": [
    {
     "name": "stdout",
     "output_type": "stream",
     "text": [
      "Title: The Adventures of Sherlock Holmes\n",
      "\n",
      "Author: Arthur Conan Doyle\n",
      "\n",
      "Release date: March 1, 1999 [eBook #1661]\n",
      "                Most recently updated: October 10, 2023\n",
      "\n",
      "Language: English\n",
      "\n",
      "Credits: an\n"
     ]
    }
   ],
   "source": [
    "print(text[:200])"
   ]
  },
  {
   "cell_type": "code",
   "execution_count": 97,
   "metadata": {},
   "outputs": [
    {
     "name": "stdout",
     "output_type": "stream",
     "text": [
      "['\\n', ' ', '!', '#', '&', '(', ')', ',', '-', '.', '0', '1', '2', '3', '4', '5', '6', '7', '8', '9', ':', ';', '?', 'A', 'B', 'C', 'D', 'E', 'F', 'G', 'H', 'I', 'J', 'K', 'L', 'M', 'N', 'O', 'P', 'Q', 'R', 'S', 'T', 'U', 'V', 'W', 'X', 'Y', 'Z', '[', ']', '_', 'a', 'b', 'c', 'd', 'e', 'f', 'g', 'h', 'i', 'j', 'k', 'l', 'm', 'n', 'o', 'p', 'q', 'r', 's', 't', 'u', 'v', 'w', 'x', 'y', 'z', '£', '½', 'à', 'â', 'æ', 'è', 'é', 'œ', '—', '‘', '’', '“', '”', '\\ufeff']\n"
     ]
    }
   ],
   "source": [
    "# Making a vocabulary set (of unique characters)\n",
    "\n",
    "chars = sorted(set(text))\n",
    "print(chars)\n",
    "vocab_size = len(chars)"
   ]
  },
  {
   "cell_type": "code",
   "execution_count": 98,
   "metadata": {},
   "outputs": [
    {
     "name": "stdout",
     "output_type": "stream",
     "text": [
      "92\n"
     ]
    }
   ],
   "source": [
    "# Encoder - encoding every character shown above by assigning it a unique number\n",
    "\n",
    "# Number of unique characters above\n",
    "print(len(chars))"
   ]
  },
  {
   "cell_type": "code",
   "execution_count": 99,
   "metadata": {},
   "outputs": [
    {
     "name": "stdout",
     "output_type": "stream",
     "text": [
      "[59, 56, 63, 63, 66]\n"
     ]
    }
   ],
   "source": [
    "# Encode - Decode\n",
    "\n",
    "string_to_int = {ch:i for i,ch in enumerate(chars)} # Dictionary of encoded character values\n",
    "int_to_string = {i:ch for i,ch in enumerate(chars)} # Dictionary of decoded character values\n",
    "\n",
    "encode = lambda s : [string_to_int[c] for c in s]\n",
    "decode = lambda l : ''.join([int_to_string[i] for i in l])\n",
    "\n",
    "# Encoding\n",
    "encoded_hello = encode(\"hello\")\n",
    "print(encoded_hello)"
   ]
  },
  {
   "cell_type": "code",
   "execution_count": 100,
   "metadata": {},
   "outputs": [
    {
     "name": "stdout",
     "output_type": "stream",
     "text": [
      "hello\n"
     ]
    }
   ],
   "source": [
    "# Decoding\n",
    "decoded_hello = decode([59, 56, 63, 63, 66])\n",
    "print(decoded_hello)"
   ]
  },
  {
   "cell_type": "code",
   "execution_count": 101,
   "metadata": {},
   "outputs": [
    {
     "data": {
      "text/plain": [
       "\"\\nTokenization can happen at word level and can also be at the character level.\\nIf it's gonna be at the character level, the vocabulary can be humungous !!!\\n\""
      ]
     },
     "execution_count": 101,
     "metadata": {},
     "output_type": "execute_result"
    }
   ],
   "source": [
    "'''\n",
    "Tokenization can happen at word level and can also be at the character level.\n",
    "If it's gonna be at the character level, the vocabulary can be humungous !!!\n",
    "'''"
   ]
  },
  {
   "cell_type": "code",
   "execution_count": 102,
   "metadata": {},
   "outputs": [
    {
     "data": {
      "text/plain": [
       "'\\nPut everything what we saw above inside tensors - so that pytorch can easily work with them\\n'"
      ]
     },
     "execution_count": 102,
     "metadata": {},
     "output_type": "execute_result"
    }
   ],
   "source": [
    "# Lets do the above using tensors - pytorch\n",
    "'''\n",
    "Put everything what we saw above inside tensors - so that pytorch can easily work with them\n",
    "'''"
   ]
  },
  {
   "cell_type": "code",
   "execution_count": 103,
   "metadata": {},
   "outputs": [
    {
     "name": "stdout",
     "output_type": "stream",
     "text": [
      "tensor([91, 42, 60, 71, 63, 56, 20,  1, 42, 59, 56,  1, 23, 55, 73, 56, 65, 71,\n",
      "        72, 69, 56, 70,  1, 66, 57,  1, 41, 59, 56, 69, 63, 66, 54, 62,  1, 30,\n",
      "        66, 63, 64, 56, 70,  0,  0, 23, 72, 71, 59, 66, 69, 20,  1, 23, 69, 71,\n",
      "        59, 72, 69,  1, 25, 66, 65, 52, 65,  1, 26, 66, 76, 63, 56,  0,  0, 40,\n",
      "        56, 63, 56, 52, 70, 56,  1, 55, 52, 71, 56, 20,  1, 35, 52, 69, 54, 59,\n",
      "         1, 11,  7,  1, 11, 19, 19, 19,  1, 49])\n"
     ]
    }
   ],
   "source": [
    "# Putting the encoding function and the data inside the tensor where the datatype inside the\n",
    "# tensor will be a sequence of super long integers\n",
    "\n",
    "data = torch.tensor(encode(text), dtype = torch.long)\n",
    "print(data[:100])"
   ]
  },
  {
   "cell_type": "code",
   "execution_count": 104,
   "metadata": {},
   "outputs": [
    {
     "data": {
      "text/plain": [
       "'\\nTensors are similar to Numpy Arrays, but just a different data structure in the context of PyTorch\\n'"
      ]
     },
     "execution_count": 104,
     "metadata": {},
     "output_type": "execute_result"
    }
   ],
   "source": [
    "'''\n",
    "Tensors are similar to Numpy Arrays, but just a different data structure in the context of PyTorch\n",
    "'''"
   ]
  },
  {
   "cell_type": "code",
   "execution_count": 105,
   "metadata": {},
   "outputs": [
    {
     "name": "stdout",
     "output_type": "stream",
     "text": [
      "inputs : \n",
      "tensor([[ 1, 68, 72, 60, 54, 62,  1, 70],\n",
      "        [60, 65,  1, 59, 60, 70,  1, 56],\n",
      "        [59, 60, 54, 59,  1, 74, 66, 72],\n",
      "        [52, 70,  1, 73, 60, 70, 60, 53]], device='cuda:0')\n",
      "\n",
      "\n",
      "target : \n",
      "tensor([[68, 72, 60, 54, 62,  1, 70, 71],\n",
      "        [65,  1, 59, 60, 70,  1, 56, 73],\n",
      "        [60, 54, 59,  1, 74, 66, 72, 63],\n",
      "        [70,  1, 73, 60, 70, 60, 53, 63]], device='cuda:0')\n"
     ]
    }
   ],
   "source": [
    "'''\n",
    "Validaton and Training Splits\n",
    "'''\n",
    "\n",
    "n = int(0.8*len(data)) # Training Data Size\n",
    "train_data = data[:n]\n",
    "val_data = data[n:]\n",
    "\n",
    "# Block size\n",
    "block_size = 8\n",
    "\n",
    "# How many blocks we need to get processed in parallel\n",
    "batch_size = 4\n",
    "\n",
    "def get_batch(split):\n",
    "    data = train_data if split == 'train' else val_data\n",
    "    ix = torch.randint(len(data) - block_size, (batch_size,))\n",
    "    # print(ix)\n",
    "    X = torch.stack([data[i:i+block_size] for i in ix])\n",
    "    y = torch.stack([data[i+1:i+block_size+1] for i in ix])\n",
    "    X, y = X.to(device), y.to(device) # Putting the data components in currently selected device (here, GPU)\n",
    "    return X, y\n",
    "\n",
    "X, y = get_batch('train')\n",
    "print('inputs : ')\n",
    "print(X)\n",
    "print(\"\\n\")\n",
    "print('target : ')\n",
    "print(y)"
   ]
  },
  {
   "cell_type": "code",
   "execution_count": 106,
   "metadata": {},
   "outputs": [
    {
     "name": "stdout",
     "output_type": "stream",
     "text": [
      "When Input is tensor([91]) --> Target is :  tensor(42)\n",
      "When Input is tensor([91, 42]) --> Target is :  tensor(60)\n",
      "When Input is tensor([91, 42, 60]) --> Target is :  tensor(71)\n",
      "When Input is tensor([91, 42, 60, 71]) --> Target is :  tensor(63)\n",
      "When Input is tensor([91, 42, 60, 71, 63]) --> Target is :  tensor(56)\n",
      "When Input is tensor([91, 42, 60, 71, 63, 56]) --> Target is :  tensor(20)\n",
      "When Input is tensor([91, 42, 60, 71, 63, 56, 20]) --> Target is :  tensor(1)\n",
      "When Input is tensor([91, 42, 60, 71, 63, 56, 20,  1]) --> Target is :  tensor(42)\n"
     ]
    }
   ],
   "source": [
    "'''\n",
    "Say for the block size = 4, we can understand the below\n",
    "\n",
    "Say, that the word \"hello\" can be represented in the below numerical array format🔻\n",
    "text = [5 16 89 66 34]\n",
    "\n",
    "Then, when iterating for training, validation and testing - the (X) components can be done : text[:block_size], and (y) can be text[1:block_size+1]\n",
    "In this way the bi-gram model will understand and learn what can be next probable character in the text\n",
    "'''\n",
    "\n",
    "X = train_data[:block_size]\n",
    "y = train_data[1:block_size+1]\n",
    "\n",
    "for t in range(block_size):\n",
    "    context = X[:t+1]\n",
    "    target = y[t]\n",
    "    print(\"When Input is\", context, \"--> Target is : \", target)"
   ]
  },
  {
   "cell_type": "code",
   "execution_count": 107,
   "metadata": {},
   "outputs": [],
   "source": [
    "'''\n",
    "For estimating the loss\n",
    "'''\n",
    "\n",
    "@torch.no_grad # This decorator makes sure that PyTorch never uses \"gradience\" at all (HERE)\n",
    "def estimate_loss():\n",
    "    out = {}\n",
    "    model.eval() # Model put to evaluation mode\n",
    "    for split in ['train', 'val']:\n",
    "        losses = torch.zeros(eval_iters)\n",
    "        for k in range(eval_iters):\n",
    "            X, y = get_batch(split)\n",
    "            logits, loss = model(X, y)\n",
    "            losses[k] = loss.item()\n",
    "        out[split] = losses.mean()\n",
    "    model.train() # Model put to trainig mode\n",
    "    return out"
   ]
  },
  {
   "cell_type": "code",
   "execution_count": 108,
   "metadata": {},
   "outputs": [
    {
     "name": "stdout",
     "output_type": "stream",
     "text": [
      "\n",
      "7hjCB-Q]mUpBhpe2.hâ£Do7at6fM﻿y﻿,W—HJ2﻿7’dqJ(TDP5œWl[,æd3t\n",
      "ZZ”M,‘UàKr[è)Aq—à7âuD(—0y\n",
      "aàcIn6n(eqyTgYpeK&bBæ[èœeNàz”bE;0x10âTANàufomG5kfqéibœPk﻿4x”F﻿cI13,“âj£Z﻿]UaAa8#IMKhF﻿ga9pekè﻿iY3f£é’dz9j7TIq6Pœ#y‘—.&jzAhF_t\n",
      "4œD(âb]‘(vWovNâb½XvGiml[WKLqI)QA#yDw﻿s,(Luà”XIt pQ?6﻿Fsé36‘GklkyMDg£H”[?QA_lP8y!Eb #aaé_1B?)O75Z﻿âàP\n",
      "2Pf.“C8âc7NrdB,#)’5élé“3Ps5Lâ,#n;vZ)ivna8\n",
      "lcLzklo”NM£kâ;œà1nZI;BIPKT”i.IP﻿jJ;v\n",
      "—WojzkFsl½f£w4G\n",
      "7w﻿4.MTl_Go‘Szi#Nobæssaa½’:iMaewq,b½u£èbæCr13MqJ‘âCVb_o\n",
      "jiln)#ywWqe836tBfF?_½M,’dD:’‘nxd d éLU\n"
     ]
    }
   ],
   "source": [
    "'''\n",
    "Creating the Bi-Gram Language Model\n",
    "'''\n",
    "\n",
    "class BiGramLanguageModel(nn.Module):\n",
    "    def __init__(self, vocab_size):\n",
    "        super().__init__()\n",
    "        self.token_embedding_table = nn.Embedding(vocab_size, vocab_size) # Embedding Matrix (vocab_size X vocab_size)\n",
    "\n",
    "    def forward(self, index, targets=None):\n",
    "        logits = self.token_embedding_table(index) # logits is 3-dimensional\n",
    "\n",
    "        if targets is None:\n",
    "            loss = None\n",
    "        else:\n",
    "            B, T, C = logits.shape\n",
    "            logits = logits.view(B*T, C) # logits.view(a, b) ==> a = batch size ; b = no. of classes\n",
    "            targets = targets.view(B*T) # targets.view(a) ==> a = no. of classes\n",
    "            loss = F.cross_entropy(logits, targets)\n",
    "\n",
    "        return logits, loss\n",
    "    \n",
    "    def generate(self, index, max_new_tokens):\n",
    "        # index is (B, T) array of indices in the current context\n",
    "        for _ in range (max_new_tokens):\n",
    "            # getting the predictions\n",
    "            logits, loss = self.forward(index)\n",
    "            # focussing only on the last time step\n",
    "            logits = logits[:, -1, :] # becomes (B, C)\n",
    "            # Applying Softmax to get probabilities\n",
    "            probs = F.softmax(logits, dim = -1) # (B, C) ==> dim = -1 (as we are focussing on the last dimension)\n",
    "            index_next = torch.multinomial(probs, num_samples = 1) # (B, 1)\n",
    "            # Append sampled index to the running sequence\n",
    "            index = torch.cat((index, index_next), dim = 1) # (B, T+1)\n",
    "        return index\n",
    "    \n",
    "\n",
    "model = BiGramLanguageModel(vocab_size)\n",
    "m = model.to(device)\n",
    "\n",
    "context = torch.zeros((1,1), dtype = torch.long, device=device) # torch.long ==> int64\n",
    "generated_chars = decode(m.generate(context, max_new_tokens = 500)[0].tolist())\n",
    "print(generated_chars)"
   ]
  },
  {
   "cell_type": "code",
   "execution_count": 109,
   "metadata": {},
   "outputs": [
    {
     "name": "stdout",
     "output_type": "stream",
     "text": [
      "Step : 0 ==> Training Loss : 4.9886, Validation Loss : 4.9844\n",
      "Step : 250 ==> Training Loss : 4.9241, Validation Loss : 4.9130\n",
      "Step : 500 ==> Training Loss : 4.8519, Validation Loss : 4.8489\n",
      "Step : 750 ==> Training Loss : 4.7930, Validation Loss : 4.7912\n",
      "Step : 1000 ==> Training Loss : 4.7459, Validation Loss : 4.7232\n",
      "Step : 1250 ==> Training Loss : 4.6703, Validation Loss : 4.6647\n",
      "Step : 1500 ==> Training Loss : 4.5898, Validation Loss : 4.5835\n",
      "Step : 1750 ==> Training Loss : 4.5282, Validation Loss : 4.5352\n",
      "Step : 2000 ==> Training Loss : 4.4737, Validation Loss : 4.4880\n",
      "Step : 2250 ==> Training Loss : 4.4386, Validation Loss : 4.4361\n",
      "Step : 2500 ==> Training Loss : 4.3775, Validation Loss : 4.3695\n",
      "Step : 2750 ==> Training Loss : 4.3031, Validation Loss : 4.2857\n",
      "Step : 3000 ==> Training Loss : 4.2473, Validation Loss : 4.2692\n",
      "Step : 3250 ==> Training Loss : 4.1839, Validation Loss : 4.1959\n",
      "Step : 3500 ==> Training Loss : 4.1612, Validation Loss : 4.1619\n",
      "Step : 3750 ==> Training Loss : 4.1084, Validation Loss : 4.0993\n",
      "Step : 4000 ==> Training Loss : 4.0474, Validation Loss : 4.0373\n",
      "Step : 4250 ==> Training Loss : 3.9897, Validation Loss : 3.9948\n",
      "Step : 4500 ==> Training Loss : 3.9613, Validation Loss : 3.9602\n",
      "Step : 4750 ==> Training Loss : 3.9067, Validation Loss : 3.8869\n",
      "Step : 5000 ==> Training Loss : 3.8589, Validation Loss : 3.8187\n",
      "Step : 5250 ==> Training Loss : 3.7998, Validation Loss : 3.7689\n",
      "Step : 5500 ==> Training Loss : 3.7843, Validation Loss : 3.7639\n",
      "Step : 5750 ==> Training Loss : 3.7526, Validation Loss : 3.7198\n",
      "Step : 6000 ==> Training Loss : 3.7037, Validation Loss : 3.6830\n",
      "Step : 6250 ==> Training Loss : 3.6566, Validation Loss : 3.6558\n",
      "Step : 6500 ==> Training Loss : 3.6358, Validation Loss : 3.5898\n",
      "Step : 6750 ==> Training Loss : 3.5788, Validation Loss : 3.5588\n",
      "Step : 7000 ==> Training Loss : 3.5556, Validation Loss : 3.5277\n",
      "Step : 7250 ==> Training Loss : 3.4832, Validation Loss : 3.5049\n",
      "Step : 7500 ==> Training Loss : 3.4711, Validation Loss : 3.4690\n",
      "Step : 7750 ==> Training Loss : 3.4427, Validation Loss : 3.4368\n",
      "Step : 8000 ==> Training Loss : 3.3991, Validation Loss : 3.3971\n",
      "Step : 8250 ==> Training Loss : 3.3821, Validation Loss : 3.3631\n",
      "Step : 8500 ==> Training Loss : 3.3190, Validation Loss : 3.3239\n",
      "Step : 8750 ==> Training Loss : 3.3433, Validation Loss : 3.3025\n",
      "Step : 9000 ==> Training Loss : 3.2916, Validation Loss : 3.3052\n",
      "Step : 9250 ==> Training Loss : 3.2744, Validation Loss : 3.2410\n",
      "Step : 9500 ==> Training Loss : 3.2319, Validation Loss : 3.2484\n",
      "Step : 9750 ==> Training Loss : 3.1847, Validation Loss : 3.2109\n",
      "3.1799755096435547\n"
     ]
    }
   ],
   "source": [
    "# Creating a PyTorch Optimzier\n",
    "\n",
    "learning_rate = 3e-4\n",
    "max_iters = 10000 # No. of iterations happening in every loop\n",
    "eval_iters = 250 # For every 250 iteration - it will print the generated text (at that instance)\n",
    "# dropout = 0.2\n",
    "\n",
    "optimizer = torch.optim.AdamW(model.parameters(), lr = learning_rate)\n",
    "\n",
    "for iter in range(max_iters):\n",
    "    if iter % eval_iters == 0:\n",
    "        losses = estimate_loss()\n",
    "        print(f\"Step : {iter} ==> Training Loss : {losses['train']:.4f}, Validation Loss : {losses['val']:.4f}\")\n",
    "\n",
    "    # Sampling a batch of data\n",
    "    Xb, yb = get_batch('train')\n",
    "\n",
    "    # Evaluating the loss\n",
    "    logits, loss = model.forward(Xb, yb)\n",
    "    optimizer.zero_grad(set_to_none = True) # The previous gradience shall not affect the current one\n",
    "    loss.backward() # Backward Pass\n",
    "    optimizer.step()\n",
    "print(loss.item())"
   ]
  },
  {
   "cell_type": "code",
   "execution_count": 110,
   "metadata": {},
   "outputs": [
    {
     "name": "stdout",
     "output_type": "stream",
     "text": [
      "\n",
      "\n",
      "VœJ]‘pm—;”toté-”ed uQbæ”eto leKA_13\n",
      "R5âTrr!ge&N)P0HâGK£(edmmDtl[ liâoky\n",
      "avirs—OYLed nn  rpt wYp£’ps,LpuTg9u—1z”9Zjà\n",
      "J;Z’Itosd skLâIItv\n",
      "y l7£jIagh[QR5qG3]Ypœto9-b3TB?si‘Fk\n",
      "æAmamesswcCb_âlqllP5Vcote,#_beqashfativ\n",
      "T[Q4vir d\n",
      "ai#gpas”’l[XAmrsBD’£1,_Tlda:8Cd #wzkGwq6&Fyhal.r,\n",
      "d sX!!æ”RJF?Wu?7-”Wzle-pes]UœJ”UCœGJ3\n",
      "shâ”[50æ“BF wB.6f£œ\n",
      "wGkà(voyq#\n",
      "WœJO”Wswnd _GIj\n",
      "Hm4:œImbBhàY17zn I ½3PœCwL(L0;I1(Yé)gUKk”NTBurc th.Ct ivesXâf!ySlàl-mXItwsoQ9﻿N﻿â‘Be k;vimy5â‘G]FJc!p1﻿qx)câTèuchair”FJqUO to 9èirt£mrend _cXDo\n"
     ]
    }
   ],
   "source": [
    "# Generating based on the LOSS shown above\n",
    "\n",
    "context = torch.zeros((1,1), dtype = torch.long, device=device)\n",
    "generated_chars = decode(m.generate(context, max_new_tokens = 500)[0].tolist())\n",
    "print(generated_chars)"
   ]
  },
  {
   "cell_type": "code",
   "execution_count": 111,
   "metadata": {},
   "outputs": [
    {
     "data": {
      "text/plain": [
       "'\\nFor learning more about PyTorch Optimizers🔽\\n\\nhttps://pytorch.org/docs/stable/optim.html\\n'"
      ]
     },
     "execution_count": 111,
     "metadata": {},
     "output_type": "execute_result"
    }
   ],
   "source": [
    "'''\n",
    "For learning more about PyTorch Optimizers🔽\n",
    "\n",
    "https://pytorch.org/docs/stable/optim.html\n",
    "'''"
   ]
  }
 ],
 "metadata": {
  "kernelspec": {
   "display_name": "Python 3",
   "language": "python",
   "name": "python3"
  },
  "language_info": {
   "codemirror_mode": {
    "name": "ipython",
    "version": 3
   },
   "file_extension": ".py",
   "mimetype": "text/x-python",
   "name": "python",
   "nbconvert_exporter": "python",
   "pygments_lexer": "ipython3",
   "version": "3.11.9"
  }
 },
 "nbformat": 4,
 "nbformat_minor": 2
}
