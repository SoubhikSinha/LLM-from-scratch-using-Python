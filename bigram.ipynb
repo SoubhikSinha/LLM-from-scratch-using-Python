{
 "cells": [
  {
   "cell_type": "markdown",
   "metadata": {},
   "source": [
    "## <b>Bi-Gram Language Model</b>\n",
    "\n",
    "\n",
    "In this notebook, we will try to create a \"Bi-Gram\" Model"
   ]
  },
  {
   "cell_type": "code",
   "execution_count": 1,
   "metadata": {},
   "outputs": [
    {
     "data": {
      "text/plain": [
       "'\\nText taken into consideration : The Adventures of Sherlock Holms (Project Gutenberg)\\n\\nLINK : https://www.gutenberg.org/ebooks/1661\\n'"
      ]
     },
     "execution_count": 1,
     "metadata": {},
     "output_type": "execute_result"
    }
   ],
   "source": [
    "'''\n",
    "Text taken into consideration : The Adventures of Sherlock Holms (Project Gutenberg)\n",
    "\n",
    "LINK : https://www.gutenberg.org/ebooks/1661\n",
    "'''"
   ]
  },
  {
   "cell_type": "code",
   "execution_count": 27,
   "metadata": {},
   "outputs": [
    {
     "name": "stdout",
     "output_type": "stream",
     "text": [
      "cuda\n"
     ]
    },
    {
     "data": {
      "text/plain": [
       "'\\nWe better not train the model using CPU, because CPU takes instructions and process them sequentially.\\nIf we need to consider a huge amount of data (text), it will take a long for the CPU to process 👻\\n\\nWhen considering GPUs, they work parallely\\n'"
      ]
     },
     "execution_count": 27,
     "metadata": {},
     "output_type": "execute_result"
    }
   ],
   "source": [
    "# Switching from CPU to GPU\n",
    "\n",
    "import torch\n",
    "import torch.nn as nn\n",
    "from torch.nn import functional as F\n",
    "\n",
    "\n",
    "device = 'cuda' if torch.cuda.is_available() else 'cpu'\n",
    "print(device)\n",
    "\n",
    "'''\n",
    "We better not train the model using CPU, because CPU takes instructions and process them sequentially.\n",
    "If we need to consider a huge amount of data (text), it will take a long for the CPU to process 👻\n",
    "\n",
    "When considering GPUs, they work parallely\n",
    "'''"
   ]
  },
  {
   "cell_type": "code",
   "execution_count": 2,
   "metadata": {},
   "outputs": [
    {
     "name": "stdout",
     "output_type": "stream",
     "text": [
      "562465\n"
     ]
    }
   ],
   "source": [
    "# Opening the text file (the book)\n",
    "\n",
    "with open(\"SherlockHolms.txt\", \"r\", encoding = 'utf-8') as f: # Character encoding = 'utf-8'\n",
    "    text = f.read()\n",
    "\n",
    "print(len(text))"
   ]
  },
  {
   "cell_type": "code",
   "execution_count": 3,
   "metadata": {},
   "outputs": [
    {
     "name": "stdout",
     "output_type": "stream",
     "text": [
      "Title: The Adventures of Sherlock Holmes\n",
      "\n",
      "Author: Arthur Conan Doyle\n",
      "\n",
      "Release date: March 1, 1999 [eBook #1661]\n",
      "                Most recently updated: October 10, 2023\n",
      "\n",
      "Language: English\n",
      "\n",
      "Credits: an\n"
     ]
    }
   ],
   "source": [
    "print(text[:200])"
   ]
  },
  {
   "cell_type": "code",
   "execution_count": 26,
   "metadata": {},
   "outputs": [
    {
     "name": "stdout",
     "output_type": "stream",
     "text": [
      "['\\n', ' ', '!', '#', '&', '(', ')', ',', '-', '.', '0', '1', '2', '3', '4', '5', '6', '7', '8', '9', ':', ';', '?', 'A', 'B', 'C', 'D', 'E', 'F', 'G', 'H', 'I', 'J', 'K', 'L', 'M', 'N', 'O', 'P', 'Q', 'R', 'S', 'T', 'U', 'V', 'W', 'X', 'Y', 'Z', '[', ']', '_', 'a', 'b', 'c', 'd', 'e', 'f', 'g', 'h', 'i', 'j', 'k', 'l', 'm', 'n', 'o', 'p', 'q', 'r', 's', 't', 'u', 'v', 'w', 'x', 'y', 'z', '£', '½', 'à', 'â', 'æ', 'è', 'é', 'œ', '—', '‘', '’', '“', '”', '\\ufeff']\n"
     ]
    }
   ],
   "source": [
    "# Making a vocabulary set (of unique characters)\n",
    "\n",
    "chars = sorted(set(text))\n",
    "print(chars)\n",
    "vocab_size = len(chars)"
   ]
  },
  {
   "cell_type": "code",
   "execution_count": 5,
   "metadata": {},
   "outputs": [
    {
     "name": "stdout",
     "output_type": "stream",
     "text": [
      "92\n"
     ]
    }
   ],
   "source": [
    "# Encoder - encoding every character shown above by assigning it a unique number\n",
    "\n",
    "# Number of unique characters above\n",
    "print(len(chars))"
   ]
  },
  {
   "cell_type": "code",
   "execution_count": 6,
   "metadata": {},
   "outputs": [
    {
     "name": "stdout",
     "output_type": "stream",
     "text": [
      "[59, 56, 63, 63, 66]\n"
     ]
    }
   ],
   "source": [
    "# Encode - Decode\n",
    "\n",
    "string_to_int = {ch:i for i,ch in enumerate(chars)} # Dictionary of encoded character values\n",
    "int_to_string = {i:ch for i,ch in enumerate(chars)} # Dictionary of decoded character values\n",
    "\n",
    "encode = lambda s : [string_to_int[c] for c in s]\n",
    "decode = lambda l : ''.join([int_to_string[i] for i in l])\n",
    "\n",
    "# Encoding\n",
    "encoded_hello = encode(\"hello\")\n",
    "print(encoded_hello)"
   ]
  },
  {
   "cell_type": "code",
   "execution_count": 7,
   "metadata": {},
   "outputs": [
    {
     "name": "stdout",
     "output_type": "stream",
     "text": [
      "hello\n"
     ]
    }
   ],
   "source": [
    "# Decoding\n",
    "decoded_hello = decode([59, 56, 63, 63, 66])\n",
    "print(decoded_hello)"
   ]
  },
  {
   "cell_type": "code",
   "execution_count": 8,
   "metadata": {},
   "outputs": [
    {
     "data": {
      "text/plain": [
       "\"\\nTokenization can happen at word level and can also be at the character level.\\nIf it's gonna be at the character level, the vocabulary can be humungous !!!\\n\""
      ]
     },
     "execution_count": 8,
     "metadata": {},
     "output_type": "execute_result"
    }
   ],
   "source": [
    "'''\n",
    "Tokenization can happen at word level and can also be at the character level.\n",
    "If it's gonna be at the character level, the vocabulary can be humungous !!!\n",
    "'''"
   ]
  },
  {
   "cell_type": "code",
   "execution_count": 21,
   "metadata": {},
   "outputs": [
    {
     "data": {
      "text/plain": [
       "'\\nPut everything what we saw above inside tensors - so that pytorch can easily work with them\\n'"
      ]
     },
     "execution_count": 21,
     "metadata": {},
     "output_type": "execute_result"
    }
   ],
   "source": [
    "# Lets do the above using tensors - pytorch\n",
    "'''\n",
    "Put everything what we saw above inside tensors - so that pytorch can easily work with them\n",
    "'''"
   ]
  },
  {
   "cell_type": "code",
   "execution_count": 10,
   "metadata": {},
   "outputs": [
    {
     "name": "stdout",
     "output_type": "stream",
     "text": [
      "tensor([91, 42, 60, 71, 63, 56, 20,  1, 42, 59, 56,  1, 23, 55, 73, 56, 65, 71,\n",
      "        72, 69, 56, 70,  1, 66, 57,  1, 41, 59, 56, 69, 63, 66, 54, 62,  1, 30,\n",
      "        66, 63, 64, 56, 70,  0,  0, 23, 72, 71, 59, 66, 69, 20,  1, 23, 69, 71,\n",
      "        59, 72, 69,  1, 25, 66, 65, 52, 65,  1, 26, 66, 76, 63, 56,  0,  0, 40,\n",
      "        56, 63, 56, 52, 70, 56,  1, 55, 52, 71, 56, 20,  1, 35, 52, 69, 54, 59,\n",
      "         1, 11,  7,  1, 11, 19, 19, 19,  1, 49])\n"
     ]
    }
   ],
   "source": [
    "# Putting the encoding function and the data inside the tensor where the datatype inside the\n",
    "# tensor will be a sequence of super long integers\n",
    "\n",
    "data = torch.tensor(encode(text), dtype = torch.long)\n",
    "print(data[:100])"
   ]
  },
  {
   "cell_type": "code",
   "execution_count": 11,
   "metadata": {},
   "outputs": [
    {
     "data": {
      "text/plain": [
       "'\\nTensors are similar to Numpy Arrays, but just a different data structure in the context of PyTorch\\n'"
      ]
     },
     "execution_count": 11,
     "metadata": {},
     "output_type": "execute_result"
    }
   ],
   "source": [
    "'''\n",
    "Tensors are similar to Numpy Arrays, but just a different data structure in the context of PyTorch\n",
    "'''"
   ]
  },
  {
   "cell_type": "code",
   "execution_count": 23,
   "metadata": {},
   "outputs": [
    {
     "name": "stdout",
     "output_type": "stream",
     "text": [
      "tensor([ 63393, 160256,  59711, 414738])\n",
      "inputs : \n",
      "tensor([[ 8, 59, 56, 52, 55, 70,  1, 52],\n",
      "        [31,  1, 55, 60, 55,  1, 65, 66],\n",
      "        [71,  1, 41, 67, 52, 72, 63, 55],\n",
      "        [ 1, 74, 60, 71, 59, 66, 72, 71]], device='cuda:0')\n",
      "\n",
      "\n",
      "target : \n",
      "tensor([[59, 56, 52, 55, 70,  1, 52, 70],\n",
      "        [ 1, 55, 60, 55,  1, 65, 66, 71],\n",
      "        [ 1, 41, 67, 52, 72, 63, 55, 60],\n",
      "        [74, 60, 71, 59, 66, 72, 71,  1]], device='cuda:0')\n"
     ]
    }
   ],
   "source": [
    "'''\n",
    "Validaton and Training Splits\n",
    "'''\n",
    "\n",
    "n = int(0.8*len(data)) # Training Data Size\n",
    "train_data = data[:n]\n",
    "val_data = data[n:]\n",
    "\n",
    "# Block size\n",
    "block_size = 8\n",
    "\n",
    "# How many blocks we need to get processed in parallel\n",
    "batch_size = 4\n",
    "\n",
    "def get_batch(split):\n",
    "    data = train_data if split == 'train' else val_data\n",
    "    ix = torch.randint(len(data) - block_size, (batch_size,))\n",
    "    print(ix)\n",
    "    X = torch.stack([data[i:i+block_size] for i in ix])\n",
    "    y = torch.stack([data[i+1:i+block_size+1] for i in ix])\n",
    "    X, y = X.to(device), y.to(device) # Putting the data components in currently selected device (here, GPU)\n",
    "    return X, y\n",
    "\n",
    "X, y = get_batch('train')\n",
    "print('inputs : ')\n",
    "print(X)\n",
    "print(\"\\n\")\n",
    "print('target : ')\n",
    "print(y)"
   ]
  },
  {
   "cell_type": "code",
   "execution_count": 25,
   "metadata": {},
   "outputs": [
    {
     "name": "stdout",
     "output_type": "stream",
     "text": [
      "When Input is tensor([91]) --> Target is :  tensor(42)\n",
      "When Input is tensor([91, 42]) --> Target is :  tensor(60)\n",
      "When Input is tensor([91, 42, 60]) --> Target is :  tensor(71)\n",
      "When Input is tensor([91, 42, 60, 71]) --> Target is :  tensor(63)\n",
      "When Input is tensor([91, 42, 60, 71, 63]) --> Target is :  tensor(56)\n",
      "When Input is tensor([91, 42, 60, 71, 63, 56]) --> Target is :  tensor(20)\n",
      "When Input is tensor([91, 42, 60, 71, 63, 56, 20]) --> Target is :  tensor(1)\n",
      "When Input is tensor([91, 42, 60, 71, 63, 56, 20,  1]) --> Target is :  tensor(42)\n"
     ]
    }
   ],
   "source": [
    "'''\n",
    "Say for the block size = 4, we can understand the below\n",
    "\n",
    "Say, that the word \"hello\" can be represented in the below numerical array format🔻\n",
    "text = [5 16 89 66 34]\n",
    "\n",
    "Then, when iterating for training, validation and testing - the (X) components can be done : text[:block_size], and (y) can be text[1:block_size+1]\n",
    "In this way the bi-gram model will understand and learn what can be next probable character in the text\n",
    "'''\n",
    "\n",
    "X = train_data[:block_size]\n",
    "y = train_data[1:block_size+1]\n",
    "\n",
    "for t in range(block_size):\n",
    "    context = X[:t+1]\n",
    "    target = y[t]\n",
    "    print(\"When Input is\", context, \"--> Target is : \", target)"
   ]
  },
  {
   "cell_type": "code",
   "execution_count": null,
   "metadata": {},
   "outputs": [],
   "source": [
    "'''\n",
    "Creating the Bi-Gram Language Model\n",
    "'''\n",
    "\n",
    "class BiGramLanguageModel(nn.Module):\n",
    "    def __init__(self, vocab_size):\n",
    "        super().__init__()\n",
    "        self.token_embedding_table = nn.Embedding(vocab_size, vocab_size) # Embedding Matrix (vocab_size X vocab_size)\n",
    "\n",
    "    def forward(self, index, targets):\n",
    "        logits = self.token_embedding_table(index)\n",
    "\n",
    "        if targets is None:\n",
    "            loss = None\n",
    "        else:\n",
    "            B, T, C = logits.shape\n",
    "            logits = logits.view(B*T, C) # logits.view(a, b) ==> a = batch size ; b = no. of classes\n",
    "            targets = targets.view(B*T) # targets.view(a) ==> a = no. of classes\n",
    "            loss = F.cross_entropy(logits, targets)\n",
    "\n",
    "        return logits, loss"
   ]
  }
 ],
 "metadata": {
  "kernelspec": {
   "display_name": "Python 3",
   "language": "python",
   "name": "python3"
  },
  "language_info": {
   "codemirror_mode": {
    "name": "ipython",
    "version": 3
   },
   "file_extension": ".py",
   "mimetype": "text/x-python",
   "name": "python",
   "nbconvert_exporter": "python",
   "pygments_lexer": "ipython3",
   "version": "3.11.9"
  }
 },
 "nbformat": 4,
 "nbformat_minor": 2
}
