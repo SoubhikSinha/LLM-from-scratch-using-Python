{
 "cells": [
  {
   "cell_type": "markdown",
   "metadata": {},
   "source": [
    "## <b>Bi-Gram Language Model</b>\n",
    "\n",
    "\n",
    "In this notebook, we will try to create a \"Bi-Gram\" Model"
   ]
  },
  {
   "cell_type": "code",
   "execution_count": 2,
   "metadata": {},
   "outputs": [
    {
     "data": {
      "text/plain": [
       "'\\nText taken into consideration : The Adventures of Sherlock Holms (Project Gutenberg)\\n\\nLINK : https://www.gutenberg.org/ebooks/1661\\n'"
      ]
     },
     "execution_count": 2,
     "metadata": {},
     "output_type": "execute_result"
    }
   ],
   "source": [
    "'''\n",
    "Text taken into consideration : The Adventures of Sherlock Holms (Project Gutenberg)\n",
    "\n",
    "LINK : https://www.gutenberg.org/ebooks/1661\n",
    "'''"
   ]
  },
  {
   "cell_type": "code",
   "execution_count": 1,
   "metadata": {},
   "outputs": [
    {
     "name": "stdout",
     "output_type": "stream",
     "text": [
      "cuda\n"
     ]
    },
    {
     "data": {
      "text/plain": [
       "'\\nWe better not train the model using CPU, because CPU takes instructions and process them sequentially.\\nIf we need to consider a huge amount of data (text), it will take a long for the CPU to process 👻\\n\\nWhen considering GPUs, they work parallely\\n'"
      ]
     },
     "execution_count": 1,
     "metadata": {},
     "output_type": "execute_result"
    }
   ],
   "source": [
    "# Switching from CPU to GPU\n",
    "\n",
    "import torch\n",
    "import torch.nn as nn\n",
    "from torch.nn import functional as F\n",
    "\n",
    "\n",
    "device = 'cuda' if torch.cuda.is_available() else 'cpu'\n",
    "print(device)\n",
    "\n",
    "'''\n",
    "We better not train the model using CPU, because CPU takes instructions and process them sequentially.\n",
    "If we need to consider a huge amount of data (text), it will take a long time for the CPU to process 👻\n",
    "\n",
    "When considering GPUs, they work parallely\n",
    "'''"
   ]
  },
  {
   "cell_type": "code",
   "execution_count": 3,
   "metadata": {},
   "outputs": [
    {
     "name": "stdout",
     "output_type": "stream",
     "text": [
      "562465\n"
     ]
    }
   ],
   "source": [
    "# Opening the text file (the book)\n",
    "\n",
    "with open(\"SherlockHolms.txt\", \"r\", encoding = 'utf-8') as f: # Character encoding = 'utf-8'\n",
    "    text = f.read()\n",
    "\n",
    "print(len(text))"
   ]
  },
  {
   "cell_type": "code",
   "execution_count": 4,
   "metadata": {},
   "outputs": [
    {
     "name": "stdout",
     "output_type": "stream",
     "text": [
      "Title: The Adventures of Sherlock Holmes\n",
      "\n",
      "Author: Arthur Conan Doyle\n",
      "\n",
      "Release date: March 1, 1999 [eBook #1661]\n",
      "                Most recently updated: October 10, 2023\n",
      "\n",
      "Language: English\n",
      "\n",
      "Credits: an\n"
     ]
    }
   ],
   "source": [
    "print(text[:200])"
   ]
  },
  {
   "cell_type": "code",
   "execution_count": 5,
   "metadata": {},
   "outputs": [
    {
     "name": "stdout",
     "output_type": "stream",
     "text": [
      "['\\n', ' ', '!', '#', '&', '(', ')', ',', '-', '.', '0', '1', '2', '3', '4', '5', '6', '7', '8', '9', ':', ';', '?', 'A', 'B', 'C', 'D', 'E', 'F', 'G', 'H', 'I', 'J', 'K', 'L', 'M', 'N', 'O', 'P', 'Q', 'R', 'S', 'T', 'U', 'V', 'W', 'X', 'Y', 'Z', '[', ']', '_', 'a', 'b', 'c', 'd', 'e', 'f', 'g', 'h', 'i', 'j', 'k', 'l', 'm', 'n', 'o', 'p', 'q', 'r', 's', 't', 'u', 'v', 'w', 'x', 'y', 'z', '£', '½', 'à', 'â', 'æ', 'è', 'é', 'œ', '—', '‘', '’', '“', '”', '\\ufeff']\n"
     ]
    }
   ],
   "source": [
    "# Making a vocabulary set (of unique characters)\n",
    "\n",
    "chars = sorted(set(text))\n",
    "print(chars)\n",
    "vocab_size = len(chars)"
   ]
  },
  {
   "cell_type": "code",
   "execution_count": 6,
   "metadata": {},
   "outputs": [
    {
     "name": "stdout",
     "output_type": "stream",
     "text": [
      "92\n"
     ]
    }
   ],
   "source": [
    "# Encoder - encoding every character shown above by assigning it a unique number\n",
    "\n",
    "# Number of unique characters above\n",
    "print(len(chars))"
   ]
  },
  {
   "cell_type": "code",
   "execution_count": 7,
   "metadata": {},
   "outputs": [
    {
     "name": "stdout",
     "output_type": "stream",
     "text": [
      "[59, 56, 63, 63, 66]\n"
     ]
    }
   ],
   "source": [
    "# Encode - Decode\n",
    "\n",
    "string_to_int = {ch:i for i,ch in enumerate(chars)} # Dictionary of encoded character values\n",
    "int_to_string = {i:ch for i,ch in enumerate(chars)} # Dictionary of decoded character values\n",
    "\n",
    "encode = lambda s : [string_to_int[c] for c in s]\n",
    "decode = lambda l : ''.join([int_to_string[i] for i in l])\n",
    "\n",
    "# Encoding\n",
    "encoded_hello = encode(\"hello\")\n",
    "print(encoded_hello)"
   ]
  },
  {
   "cell_type": "code",
   "execution_count": 8,
   "metadata": {},
   "outputs": [
    {
     "name": "stdout",
     "output_type": "stream",
     "text": [
      "hello\n"
     ]
    }
   ],
   "source": [
    "# Decoding\n",
    "decoded_hello = decode([59, 56, 63, 63, 66])\n",
    "print(decoded_hello)"
   ]
  },
  {
   "cell_type": "code",
   "execution_count": 9,
   "metadata": {},
   "outputs": [
    {
     "data": {
      "text/plain": [
       "\"\\nTokenization can happen at word level and can also be at the character level.\\nIf it's gonna be at the character level, the vocabulary can be humungous !!!\\n\""
      ]
     },
     "execution_count": 9,
     "metadata": {},
     "output_type": "execute_result"
    }
   ],
   "source": [
    "'''\n",
    "Tokenization can happen at word level and can also be at the character level.\n",
    "If it's gonna be at the character level, the vocabulary can be humungous !!!\n",
    "'''"
   ]
  },
  {
   "cell_type": "code",
   "execution_count": 10,
   "metadata": {},
   "outputs": [
    {
     "data": {
      "text/plain": [
       "'\\nPut everything what we saw above inside tensors - so that pytorch can easily work with them\\n'"
      ]
     },
     "execution_count": 10,
     "metadata": {},
     "output_type": "execute_result"
    }
   ],
   "source": [
    "# Lets do the above using tensors - pytorch\n",
    "'''\n",
    "Put everything what we saw above inside tensors - so that pytorch can easily work with them\n",
    "'''"
   ]
  },
  {
   "cell_type": "code",
   "execution_count": 11,
   "metadata": {},
   "outputs": [
    {
     "name": "stdout",
     "output_type": "stream",
     "text": [
      "tensor([91, 42, 60, 71, 63, 56, 20,  1, 42, 59, 56,  1, 23, 55, 73, 56, 65, 71,\n",
      "        72, 69, 56, 70,  1, 66, 57,  1, 41, 59, 56, 69, 63, 66, 54, 62,  1, 30,\n",
      "        66, 63, 64, 56, 70,  0,  0, 23, 72, 71, 59, 66, 69, 20,  1, 23, 69, 71,\n",
      "        59, 72, 69,  1, 25, 66, 65, 52, 65,  1, 26, 66, 76, 63, 56,  0,  0, 40,\n",
      "        56, 63, 56, 52, 70, 56,  1, 55, 52, 71, 56, 20,  1, 35, 52, 69, 54, 59,\n",
      "         1, 11,  7,  1, 11, 19, 19, 19,  1, 49])\n"
     ]
    }
   ],
   "source": [
    "# Putting the encoding function and the data inside the tensor where the datatype inside the\n",
    "# tensor will be a sequence of super long integers\n",
    "\n",
    "data = torch.tensor(encode(text), dtype = torch.long)\n",
    "print(data[:100])"
   ]
  },
  {
   "cell_type": "code",
   "execution_count": 12,
   "metadata": {},
   "outputs": [
    {
     "data": {
      "text/plain": [
       "'\\nTensors are similar to Numpy Arrays, but just a different data structure in the context of PyTorch\\n'"
      ]
     },
     "execution_count": 12,
     "metadata": {},
     "output_type": "execute_result"
    }
   ],
   "source": [
    "'''\n",
    "Tensors are similar to Numpy Arrays, but just a different data structure in the context of PyTorch\n",
    "'''"
   ]
  },
  {
   "cell_type": "code",
   "execution_count": 13,
   "metadata": {},
   "outputs": [
    {
     "name": "stdout",
     "output_type": "stream",
     "text": [
      "inputs : \n",
      "tensor([[ 9, 90,  0,  0, 89, 44, 56, 69],\n",
      "        [29, 66, 55,  0, 59, 56, 63, 67],\n",
      "        [70,  1, 59, 56, 52, 55,  1, 70],\n",
      "        [ 1, 57, 52, 60, 65, 71,  1, 69]], device='cuda:0')\n",
      "\n",
      "\n",
      "target : \n",
      "tensor([[90,  0,  0, 89, 44, 56, 69, 76],\n",
      "        [66, 55,  0, 59, 56, 63, 67,  1],\n",
      "        [ 1, 59, 56, 52, 55,  1, 70, 72],\n",
      "        [57, 52, 60, 65, 71,  1, 69, 60]], device='cuda:0')\n"
     ]
    }
   ],
   "source": [
    "'''\n",
    "Validaton and Training Splits\n",
    "'''\n",
    "\n",
    "n = int(0.8*len(data)) # Training Data Size\n",
    "train_data = data[:n]\n",
    "val_data = data[n:]\n",
    "\n",
    "# Block size\n",
    "block_size = 8\n",
    "\n",
    "# How many blocks we need to get processed in parallel\n",
    "batch_size = 4\n",
    "\n",
    "def get_batch(split):\n",
    "    data = train_data if split == 'train' else val_data\n",
    "    ix = torch.randint(len(data) - block_size, (batch_size,))\n",
    "    # print(ix)\n",
    "    X = torch.stack([data[i:i+block_size] for i in ix])\n",
    "    y = torch.stack([data[i+1:i+block_size+1] for i in ix])\n",
    "    X, y = X.to(device), y.to(device) # Putting the data components in currently selected device (here, GPU)\n",
    "    return X, y\n",
    "\n",
    "X, y = get_batch('train')\n",
    "print('inputs : ')\n",
    "print(X)\n",
    "print(\"\\n\")\n",
    "print('target : ')\n",
    "print(y)"
   ]
  },
  {
   "cell_type": "code",
   "execution_count": 14,
   "metadata": {},
   "outputs": [
    {
     "name": "stdout",
     "output_type": "stream",
     "text": [
      "When Input is tensor([91]) --> Target is :  tensor(42)\n",
      "When Input is tensor([91, 42]) --> Target is :  tensor(60)\n",
      "When Input is tensor([91, 42, 60]) --> Target is :  tensor(71)\n",
      "When Input is tensor([91, 42, 60, 71]) --> Target is :  tensor(63)\n",
      "When Input is tensor([91, 42, 60, 71, 63]) --> Target is :  tensor(56)\n",
      "When Input is tensor([91, 42, 60, 71, 63, 56]) --> Target is :  tensor(20)\n",
      "When Input is tensor([91, 42, 60, 71, 63, 56, 20]) --> Target is :  tensor(1)\n",
      "When Input is tensor([91, 42, 60, 71, 63, 56, 20,  1]) --> Target is :  tensor(42)\n"
     ]
    }
   ],
   "source": [
    "'''\n",
    "Say for the block size = 4, we can understand the below\n",
    "\n",
    "Say, that the word \"hello\" can be represented in the below numerical array format🔻\n",
    "text = [5 16 89 66 34]\n",
    "\n",
    "Then, when iterating for training, validation and testing - the (X) components can be done : text[:block_size], and (y) can be text[1:block_size+1]\n",
    "In this way the bi-gram model will understand and learn what can be next probable character in the text\n",
    "'''\n",
    "\n",
    "X = train_data[:block_size]\n",
    "y = train_data[1:block_size+1]\n",
    "\n",
    "for t in range(block_size):\n",
    "    context = X[:t+1]\n",
    "    target = y[t]\n",
    "    print(\"When Input is\", context, \"--> Target is : \", target)"
   ]
  },
  {
   "cell_type": "code",
   "execution_count": 15,
   "metadata": {},
   "outputs": [],
   "source": [
    "'''\n",
    "For estimating the loss\n",
    "'''\n",
    "\n",
    "@torch.no_grad # This decorator makes sure that PyTorch never uses \"gradience\" at all (HERE)\n",
    "def estimate_loss():\n",
    "    out = {}\n",
    "    model.eval() # Model put to evaluation mode\n",
    "    for split in ['train', 'val']:\n",
    "        losses = torch.zeros(eval_iters)\n",
    "        for k in range(eval_iters):\n",
    "            X, y = get_batch(split)\n",
    "            logits, loss = model(X, y)\n",
    "            losses[k] = loss.item()\n",
    "        out[split] = losses.mean()\n",
    "    model.train() # Model put to trainig mode\n",
    "    return out"
   ]
  },
  {
   "cell_type": "code",
   "execution_count": 16,
   "metadata": {},
   "outputs": [
    {
     "name": "stdout",
     "output_type": "stream",
     "text": [
      "\n",
      "éœo﻿9½F3)﻿yBur5Y(mbiMn[V;WW?qR“-YVU9.Zf-Zk”D#9e3àmPkdèfH??fv?3rUiIHGo4itSU8IPWBJ—c9AF‘àw9yY﻿Z—u-Zo?S 99½7BæâO!SLtKB,gNAxèBœ5âg2Q4_Dvèh½£Sb1cL5ho]qZfRj-‘lQnk!.jHPUOKU£g:-qwàéa,”G[?2Q—àâtT7‘lPI&OB”fn(fy7‘iVânOLhwq?6Dx\n",
      "X&£‘æx5Jœq;H]W;8Te’]fv2rè2x;x[8dtw4CmP qLà.p!6j5iq?WClQ9va&Y_“q751:Wæ:o﻿YæVU8C6œæ4i‘iH,EKN“Y:LzsasmppRM443Bv)NVâpBàG[;UbVF4;A6Q—lmX7‘GhW#iæI2VE4ur—;T)½u’.zRjJ zUEqfRX :]vFI[uZâ_oCQk:;&uZâFI6DèTBoLUcILd(B’p—àuAc£”fvaJI”GuUor5Ex½biixSunOzQak25X½æ“PW#—”vV½hp?c9hF;\n",
      "eJ’MG([eEwuvoE4æG#âBJâ\n"
     ]
    }
   ],
   "source": [
    "'''\n",
    "Creating the Bi-Gram Language Model\n",
    "'''\n",
    "\n",
    "class BiGramLanguageModel(nn.Module):\n",
    "    def __init__(self, vocab_size):\n",
    "        super().__init__()\n",
    "        self.token_embedding_table = nn.Embedding(vocab_size, vocab_size) # Embedding Matrix (vocab_size X vocab_size)\n",
    "\n",
    "    def forward(self, index, targets=None):\n",
    "        logits = self.token_embedding_table(index) # logits is 3-dimensional\n",
    "\n",
    "        if targets is None:\n",
    "            loss = None\n",
    "        else:\n",
    "            B, T, C = logits.shape\n",
    "            logits = logits.view(B*T, C) # logits.view(a, b) ==> a = batch size ; b = no. of classes\n",
    "            targets = targets.view(B*T) # targets.view(a) ==> a = no. of classes\n",
    "            loss = F.cross_entropy(logits, targets)\n",
    "\n",
    "        return logits, loss\n",
    "    \n",
    "    def generate(self, index, max_new_tokens):\n",
    "        # index is (B, T) array of indices in the current context\n",
    "\n",
    "        '''\n",
    "        B (Batch Size) : Number of sequences or data samples processed in parallel.\n",
    "        T (Time-Step/Sequence) : Number of time steps (or sequence length) for each input sample.\n",
    "        C (Channels) : Number of features or channels for each time step (such as the depth or dimensionality of the input at each time step).\n",
    "        '''\n",
    "\n",
    "        for _ in range (max_new_tokens):\n",
    "            # getting the predictions\n",
    "            logits, loss = self.forward(index)\n",
    "            # focussing only on the last time step\n",
    "            logits = logits[:, -1, :] # becomes (B, C)\n",
    "            # Applying Softmax to get probabilities\n",
    "            probs = F.softmax(logits, dim = -1) # (B, C) ==> dim = -1 (as we are focussing on the last dimension)\n",
    "            index_next = torch.multinomial(probs, num_samples = 1) # (B, 1)\n",
    "            # Append sampled index to the running sequence\n",
    "            index = torch.cat((index, index_next), dim = 1) # (B, T+1)\n",
    "        return index\n",
    "    \n",
    "\n",
    "model = BiGramLanguageModel(vocab_size)\n",
    "m = model.to(device)\n",
    "\n",
    "context = torch.zeros((1,1), dtype = torch.long, device=device) # torch.long ==> int64\n",
    "generated_chars = decode(m.generate(context, max_new_tokens = 500)[0].tolist())\n",
    "print(generated_chars)"
   ]
  },
  {
   "cell_type": "code",
   "execution_count": 17,
   "metadata": {},
   "outputs": [
    {
     "name": "stdout",
     "output_type": "stream",
     "text": [
      "Step : 0 ==> Training Loss : 4.8555, Validation Loss : 4.8523\n",
      "Step : 250 ==> Training Loss : 3.3423, Validation Loss : 3.3216\n",
      "Step : 500 ==> Training Loss : 2.8133, Validation Loss : 2.7989\n",
      "Step : 750 ==> Training Loss : 2.6689, Validation Loss : 2.6597\n",
      "Step : 1000 ==> Training Loss : 2.5556, Validation Loss : 2.5480\n",
      "Step : 1250 ==> Training Loss : 2.5110, Validation Loss : 2.5025\n",
      "Step : 1500 ==> Training Loss : 2.5232, Validation Loss : 2.4930\n",
      "Step : 1750 ==> Training Loss : 2.5145, Validation Loss : 2.4732\n",
      "Step : 2000 ==> Training Loss : 2.5063, Validation Loss : 2.4590\n",
      "Step : 2250 ==> Training Loss : 2.4941, Validation Loss : 2.4593\n",
      "Step : 2500 ==> Training Loss : 2.4851, Validation Loss : 2.4491\n",
      "Step : 2750 ==> Training Loss : 2.4431, Validation Loss : 2.4296\n",
      "Step : 3000 ==> Training Loss : 2.4799, Validation Loss : 2.4439\n",
      "Step : 3250 ==> Training Loss : 2.4506, Validation Loss : 2.4458\n",
      "Step : 3500 ==> Training Loss : 2.4469, Validation Loss : 2.4261\n",
      "Step : 3750 ==> Training Loss : 2.4438, Validation Loss : 2.4457\n",
      "Step : 4000 ==> Training Loss : 2.4487, Validation Loss : 2.4440\n",
      "Step : 4250 ==> Training Loss : 2.4558, Validation Loss : 2.4444\n",
      "Step : 4500 ==> Training Loss : 2.4355, Validation Loss : 2.4157\n",
      "Step : 4750 ==> Training Loss : 2.4418, Validation Loss : 2.4444\n",
      "Step : 5000 ==> Training Loss : 2.4442, Validation Loss : 2.4516\n",
      "Step : 5250 ==> Training Loss : 2.4347, Validation Loss : 2.4176\n",
      "Step : 5500 ==> Training Loss : 2.4538, Validation Loss : 2.4154\n",
      "Step : 5750 ==> Training Loss : 2.4410, Validation Loss : 2.4264\n",
      "Step : 6000 ==> Training Loss : 2.4238, Validation Loss : 2.4262\n",
      "Step : 6250 ==> Training Loss : 2.4161, Validation Loss : 2.4313\n",
      "Step : 6500 ==> Training Loss : 2.4274, Validation Loss : 2.4362\n",
      "Step : 6750 ==> Training Loss : 2.4502, Validation Loss : 2.4135\n",
      "Step : 7000 ==> Training Loss : 2.4233, Validation Loss : 2.4257\n",
      "Step : 7250 ==> Training Loss : 2.4377, Validation Loss : 2.4446\n",
      "Step : 7500 ==> Training Loss : 2.4393, Validation Loss : 2.4253\n",
      "Step : 7750 ==> Training Loss : 2.4173, Validation Loss : 2.4013\n",
      "Step : 8000 ==> Training Loss : 2.4477, Validation Loss : 2.4266\n",
      "Step : 8250 ==> Training Loss : 2.4419, Validation Loss : 2.4467\n",
      "Step : 8500 ==> Training Loss : 2.4376, Validation Loss : 2.4253\n",
      "Step : 8750 ==> Training Loss : 2.4262, Validation Loss : 2.4259\n",
      "Step : 9000 ==> Training Loss : 2.4281, Validation Loss : 2.4221\n",
      "Step : 9250 ==> Training Loss : 2.4334, Validation Loss : 2.4396\n",
      "Step : 9500 ==> Training Loss : 2.4508, Validation Loss : 2.4275\n",
      "Step : 9750 ==> Training Loss : 2.4459, Validation Loss : 2.4321\n",
      "2.338827610015869\n"
     ]
    }
   ],
   "source": [
    "# Creating a PyTorch Optimzier\n",
    "\n",
    "learning_rate = 1e-2\n",
    "max_iters = 10000 # No. of iterations happening in every loop\n",
    "eval_iters = 250 # For every 250 iteration - it will print the generated text (at that instance)\n",
    "# dropout = 0.2\n",
    "\n",
    "optimizer = torch.optim.AdamW(model.parameters(), lr = learning_rate)\n",
    "\n",
    "for iter in range(max_iters):\n",
    "    if iter % eval_iters == 0:\n",
    "        losses = estimate_loss()\n",
    "        print(f\"Step : {iter} ==> Training Loss : {losses['train']:.4f}, Validation Loss : {losses['val']:.4f}\")\n",
    "\n",
    "    # Sampling a batch of data\n",
    "    Xb, yb = get_batch('train')\n",
    "\n",
    "    # Evaluating the loss\n",
    "    logits, loss = model.forward(Xb, yb)\n",
    "    optimizer.zero_grad(set_to_none = True) # The previous gradience shall not affect the current one\n",
    "    loss.backward() # Backward Pass\n",
    "    optimizer.step()\n",
    "print(loss.item())"
   ]
  },
  {
   "cell_type": "code",
   "execution_count": 18,
   "metadata": {},
   "outputs": [
    {
     "name": "stdout",
     "output_type": "stream",
     "text": [
      "\n",
      "s myaliskniof fo Itheenobve Be ifethe hod witond the sthicold,\n",
      "\n",
      "Thang at t, athe ft l atoman an the r a sint ookioomuseriod ghithair orchter Frertoson, be wid gesinisthrepoocod s s oibe ide y stre ombond s s ys\n",
      "Nowe malmeaslest l’tofot t. msl har ie then blenive,\n",
      "thayo quth whensend an nct, e,\n",
      "ned holfinshye. brs fire je yea it o. poumy anfa whe\n",
      "herind tiodkexarhipatha oweisthevinilaw te.” d an e abll the\n",
      "canthoucksorascaver f ik-rotat atrey weistiest d winge I ligherd as ilerecharimes. win blli\n"
     ]
    }
   ],
   "source": [
    "# Generating based on the LOSS shown above\n",
    "\n",
    "context = torch.zeros((1,1), dtype = torch.long, device=device)\n",
    "generated_chars = decode(m.generate(context, max_new_tokens = 500)[0].tolist())\n",
    "print(generated_chars)"
   ]
  },
  {
   "cell_type": "code",
   "execution_count": 19,
   "metadata": {},
   "outputs": [
    {
     "data": {
      "text/plain": [
       "'\\nFor learning more about PyTorch Optimizers🔽\\n\\nhttps://pytorch.org/docs/stable/optim.html\\n'"
      ]
     },
     "execution_count": 19,
     "metadata": {},
     "output_type": "execute_result"
    }
   ],
   "source": [
    "'''\n",
    "For learning more about PyTorch Optimizers🔽\n",
    "\n",
    "https://pytorch.org/docs/stable/optim.html\n",
    "'''"
   ]
  }
 ],
 "metadata": {
  "kernelspec": {
   "display_name": "AlooBonda",
   "language": "python",
   "name": "python3"
  },
  "language_info": {
   "codemirror_mode": {
    "name": "ipython",
    "version": 3
   },
   "file_extension": ".py",
   "mimetype": "text/x-python",
   "name": "python",
   "nbconvert_exporter": "python",
   "pygments_lexer": "ipython3",
   "version": "3.11.9"
  }
 },
 "nbformat": 4,
 "nbformat_minor": 2
}
